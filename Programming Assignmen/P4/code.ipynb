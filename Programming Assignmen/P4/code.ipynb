{
 "cells": [
  {
   "cell_type": "markdown",
   "metadata": {},
   "source": [
    "# P4 Panoramas and Stereo"
   ]
  },
  {
   "cell_type": "markdown",
   "metadata": {},
   "source": [
    "## P4.1 Spherical Reprojection\n",
    "\n",
    "As we discussed in class, to make a panorama we need to reproject the images onto a sphere, something you will be implementing in this question. I have given you some starter code that you should use to reproject the image onto a sphere: the function `reproject_image_to_sphere`. I have annotated what you need to include to complete this function:\n",
    "\n",
    "<img src=\"annotated_projection_code.png\" width=\"600\">\n",
    "\n",
    "**TASK** Complete the `reproject_image_to_sphere` function I have provided below. I recommend that you revisit the lecture slides on panoramas to get the definitions of the unit sphere coordinates.\n",
    "\n",
    "I have provided you with a simple scene for Blender: `simple_pano_env.blend`. The camera is located at `x=0` and `y=0` and oriented such that it is level with the ground plane and rotated 0-degrees about the z-axis. The only camera in the scene has a Focal Length of 40 mm (expressed with respect to the *36 mm* film size standard used in photography). To test that your image reprojection method is working correctly.\n",
    "\n",
    "**TASK** Generate 4 images by changing the Focal Length of the camera in Blender and name them as follows:\n",
    "\n",
    "1. `b_pano_20mm.png` Rendered after setting the camera Focal Length to `20 mm`.\n",
    "2. `b_pano_30mm.png` Rendered after setting the camera Focal Length to `30 mm`.\n",
    "3. `b_pano_40mm.png` Rendered after setting the camera Focal Length to `40 mm`.\n",
    "4. `b_pano_50mm.png` Rendered after setting the camera Focal Length to `50 mm`.\n",
    "\n",
    "**Plots** Run the `Evaluation and Plotting` code I have included below. This will generate three figures (all of which you should include in your writeup). (1) shows the four images after the spherical reprojection. (2) shows the images added together, showing that in the center where all images have visibility of the scene, the images properly overlap. (3) The \"differences\" between consecutive Focal Lengths; if your code is implemented well, the center region (where the two overlap) should be nearly zero (\"white\" in the color scheme) and large outside of that image (where they do not overlap).\n",
    "\n",
    "If the second plot, in which all images have been added together, looks \"reasonable\" (that the images are properly overlapped with one another) and you are convinced that your reprojection function is working properly, you can move on to the next section, in which you are asked to build your own panoramas after reprojecting onto a sphere."
   ]
  },
  {
   "cell_type": "code",
   "execution_count": 2,
   "metadata": {},
   "outputs": [],
   "source": [
    "import numpy as np\n",
    "import matplotlib.pyplot as plt\n",
    "from PIL import Image\n",
    "import scipy.interpolate\n",
    "\n",
    "\n",
    "def load_image_gray(filepath):\n",
    "    img = Image.open(filepath)\n",
    "    img = np.asarray(img).astype(np.float)/255\n",
    "    if len(img.shape) > 2:\n",
    "        return img[:, :, 0]\n",
    "    else:\n",
    "        return img\n",
    "\n",
    "def get_image_with_f(filepath, blender_focal_length_mm):\n",
    "    image = load_image_gray(filepath)\n",
    "    f = max(image.shape) * blender_focal_length_mm / 36.00\n",
    "    return image, f\n",
    "\n",
    "def reproject_image_to_sphere(image, focal_length_px, fov_deg=None, angular_resolution=0.01):\n",
    "    x = np.arange(image.shape[1]).astype(np.float)\n",
    "    y = np.arange(image.shape[0]).astype(np.float)\n",
    "    \n",
    "    if fov_deg is None:\n",
    "        fov = np.arctan(max(image.shape)/focal_length_px/2) + angular_resolution\n",
    "    else:\n",
    "        fov = fov_deg * np.pi / 180\n",
    "    \n",
    "    print(f\"2 * Field of View: {2*fov}\")\n",
    "    thetas = np.arange(-fov, fov, angular_resolution)\n",
    "    phis = np.arange(-fov, fov, angular_resolution)\n",
    "\n",
    "    transformed_image = np.zeros((len(phis), len(thetas)))\n",
    "    image_fn = scipy.interpolate.interp2d(x, y, image, kind='linear', fill_value=0)\n",
    "    for ii in range(len(thetas)):\n",
    "        for jj in range(len(phis)):\n",
    "            theta = thetas[ii]\n",
    "            phi = phis[jj]\n",
    "            \n",
    "            xt = np.sin(theta)*np.cos(phi)\n",
    "            yt = np.sin(phi)\n",
    "            zt = np.cos(theta)*np.cos(phi)\n",
    "            \n",
    "            new_x = len(x)//2 + (focal_length_px*xt/zt)\n",
    "            new_y = len(y)//2 + (focal_length_px*yt/zt)\n",
    "            transformed_image[jj, ii] = image_fn(new_x, new_y)\n",
    "    \n",
    "    return transformed_image\n",
    "\n",
    "\n",
    "img_20, f_20 = get_image_with_f('b_pano_20mm.png', 20)\n",
    "img_30, f_30 = get_image_with_f('b_pano_30mm.png', 30)\n",
    "img_40, f_40 = get_image_with_f('b_pano_40mm.png', 40)\n",
    "img_50, f_50 = get_image_with_f('b_pano_50mm.png', 50)"
   ]
  },
  {
   "cell_type": "code",
   "execution_count": 22,
   "metadata": {
    "scrolled": false
   },
   "outputs": [
    {
     "name": "stdout",
     "output_type": "stream",
     "text": [
      "2 * Field of View: 1.5707963267948966\n",
      "2 * Field of View: 1.5707963267948966\n",
      "2 * Field of View: 1.5707963267948966\n",
      "2 * Field of View: 1.5707963267948966\n"
     ]
    },
    {
     "data": {
      "text/plain": [
       "<matplotlib.image.AxesImage at 0x1e980b6e8b0>"
      ]
     },
     "execution_count": 22,
     "metadata": {},
     "output_type": "execute_result"
    },
    {
     "data": {
      "image/png": "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
